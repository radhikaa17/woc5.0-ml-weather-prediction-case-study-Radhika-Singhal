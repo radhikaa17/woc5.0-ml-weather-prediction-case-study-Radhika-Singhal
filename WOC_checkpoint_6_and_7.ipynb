{
  "nbformat": 4,
  "nbformat_minor": 0,
  "metadata": {
    "colab": {
      "provenance": [],
      "collapsed_sections": [
        "vgcYSx7QwP9H",
        "pUyL-ZS-0xV_",
        "fnozESO731uJ"
      ],
      "mount_file_id": "1Dqo2tgzB0OYrhsiQAjHS3odRHvxfaJ5p",
      "authorship_tag": "ABX9TyPLslDjBNk3RRdYYlXZr49C",
      "include_colab_link": true
    },
    "kernelspec": {
      "name": "python3",
      "display_name": "Python 3"
    },
    "language_info": {
      "name": "python"
    }
  },
  "cells": [
    {
      "cell_type": "markdown",
      "metadata": {
        "id": "view-in-github",
        "colab_type": "text"
      },
      "source": [
        "<a href=\"https://colab.research.google.com/github/radhikaa17/woc5.0-ml-weather-prediction-case-study-Radhika-Singhal/blob/main/WOC_checkpoint_6_and_7.ipynb\" target=\"_parent\"><img src=\"https://colab.research.google.com/assets/colab-badge.svg\" alt=\"Open In Colab\"/></a>"
      ]
    },
    {
      "cell_type": "markdown",
      "source": [
        "202218062\n",
        "\n",
        "Radhika Singhal\n",
        "\n",
        "CHECKPOINT 6 and 7"
      ],
      "metadata": {
        "id": "7bZnAJ7F-oEC"
      }
    },
    {
      "cell_type": "markdown",
      "source": [
        "##About the data"
      ],
      "metadata": {
        "id": "vgcYSx7QwP9H"
      }
    },
    {
      "cell_type": "code",
      "source": [
        "import numpy as np\n",
        "import pandas as pd\n",
        "import matplotlib.pyplot as plt\n",
        "import seaborn as sns"
      ],
      "metadata": {
        "id": "uzcfDWtQymlg"
      },
      "execution_count": 96,
      "outputs": []
    },
    {
      "cell_type": "code",
      "execution_count": 97,
      "metadata": {
        "id": "JMOF42RhxkFK"
      },
      "outputs": [],
      "source": [
        "data = pd.read_csv(\"/content/weather.csv\")"
      ]
    },
    {
      "cell_type": "code",
      "source": [
        "data.shape"
      ],
      "metadata": {
        "colab": {
          "base_uri": "https://localhost:8080/"
        },
        "id": "2aRi-MRSyjgd",
        "outputId": "dffad041-aba5-4481-ecb6-3a0d262bfbc2"
      },
      "execution_count": 98,
      "outputs": [
        {
          "output_type": "execute_result",
          "data": {
            "text/plain": [
              "(1461, 5)"
            ]
          },
          "metadata": {},
          "execution_count": 98
        }
      ]
    },
    {
      "cell_type": "code",
      "source": [
        "data.info()"
      ],
      "metadata": {
        "colab": {
          "base_uri": "https://localhost:8080/"
        },
        "id": "_9Vw9j_OzfVI",
        "outputId": "a4a39e2e-df93-4281-dbae-8ffae4a7ac67"
      },
      "execution_count": 99,
      "outputs": [
        {
          "output_type": "stream",
          "name": "stdout",
          "text": [
            "<class 'pandas.core.frame.DataFrame'>\n",
            "RangeIndex: 1461 entries, 0 to 1460\n",
            "Data columns (total 5 columns):\n",
            " #   Column         Non-Null Count  Dtype  \n",
            "---  ------         --------------  -----  \n",
            " 0   precipitation  1461 non-null   float64\n",
            " 1   temp_max       1461 non-null   float64\n",
            " 2   temp_min       1461 non-null   float64\n",
            " 3   wind           1461 non-null   float64\n",
            " 4   weather        1461 non-null   object \n",
            "dtypes: float64(4), object(1)\n",
            "memory usage: 57.2+ KB\n"
          ]
        }
      ]
    },
    {
      "cell_type": "code",
      "source": [
        "data.describe()"
      ],
      "metadata": {
        "colab": {
          "base_uri": "https://localhost:8080/",
          "height": 300
        },
        "id": "kcwg1X59zjD-",
        "outputId": "70c79838-6334-4aad-ad5b-a7182f114007"
      },
      "execution_count": 100,
      "outputs": [
        {
          "output_type": "execute_result",
          "data": {
            "text/plain": [
              "       precipitation     temp_max     temp_min         wind\n",
              "count    1461.000000  1461.000000  1461.000000  1461.000000\n",
              "mean        3.029432    16.439083     8.234771     3.241136\n",
              "std         6.680194     7.349758     5.023004     1.437825\n",
              "min         0.000000    -1.600000    -7.100000     0.400000\n",
              "25%         0.000000    10.600000     4.400000     2.200000\n",
              "50%         0.000000    15.600000     8.300000     3.000000\n",
              "75%         2.800000    22.200000    12.200000     4.000000\n",
              "max        55.900000    35.600000    18.300000     9.500000"
            ],
            "text/html": [
              "\n",
              "  <div id=\"df-198ef587-7bf7-4bce-b996-71e11bff8181\">\n",
              "    <div class=\"colab-df-container\">\n",
              "      <div>\n",
              "<style scoped>\n",
              "    .dataframe tbody tr th:only-of-type {\n",
              "        vertical-align: middle;\n",
              "    }\n",
              "\n",
              "    .dataframe tbody tr th {\n",
              "        vertical-align: top;\n",
              "    }\n",
              "\n",
              "    .dataframe thead th {\n",
              "        text-align: right;\n",
              "    }\n",
              "</style>\n",
              "<table border=\"1\" class=\"dataframe\">\n",
              "  <thead>\n",
              "    <tr style=\"text-align: right;\">\n",
              "      <th></th>\n",
              "      <th>precipitation</th>\n",
              "      <th>temp_max</th>\n",
              "      <th>temp_min</th>\n",
              "      <th>wind</th>\n",
              "    </tr>\n",
              "  </thead>\n",
              "  <tbody>\n",
              "    <tr>\n",
              "      <th>count</th>\n",
              "      <td>1461.000000</td>\n",
              "      <td>1461.000000</td>\n",
              "      <td>1461.000000</td>\n",
              "      <td>1461.000000</td>\n",
              "    </tr>\n",
              "    <tr>\n",
              "      <th>mean</th>\n",
              "      <td>3.029432</td>\n",
              "      <td>16.439083</td>\n",
              "      <td>8.234771</td>\n",
              "      <td>3.241136</td>\n",
              "    </tr>\n",
              "    <tr>\n",
              "      <th>std</th>\n",
              "      <td>6.680194</td>\n",
              "      <td>7.349758</td>\n",
              "      <td>5.023004</td>\n",
              "      <td>1.437825</td>\n",
              "    </tr>\n",
              "    <tr>\n",
              "      <th>min</th>\n",
              "      <td>0.000000</td>\n",
              "      <td>-1.600000</td>\n",
              "      <td>-7.100000</td>\n",
              "      <td>0.400000</td>\n",
              "    </tr>\n",
              "    <tr>\n",
              "      <th>25%</th>\n",
              "      <td>0.000000</td>\n",
              "      <td>10.600000</td>\n",
              "      <td>4.400000</td>\n",
              "      <td>2.200000</td>\n",
              "    </tr>\n",
              "    <tr>\n",
              "      <th>50%</th>\n",
              "      <td>0.000000</td>\n",
              "      <td>15.600000</td>\n",
              "      <td>8.300000</td>\n",
              "      <td>3.000000</td>\n",
              "    </tr>\n",
              "    <tr>\n",
              "      <th>75%</th>\n",
              "      <td>2.800000</td>\n",
              "      <td>22.200000</td>\n",
              "      <td>12.200000</td>\n",
              "      <td>4.000000</td>\n",
              "    </tr>\n",
              "    <tr>\n",
              "      <th>max</th>\n",
              "      <td>55.900000</td>\n",
              "      <td>35.600000</td>\n",
              "      <td>18.300000</td>\n",
              "      <td>9.500000</td>\n",
              "    </tr>\n",
              "  </tbody>\n",
              "</table>\n",
              "</div>\n",
              "      <button class=\"colab-df-convert\" onclick=\"convertToInteractive('df-198ef587-7bf7-4bce-b996-71e11bff8181')\"\n",
              "              title=\"Convert this dataframe to an interactive table.\"\n",
              "              style=\"display:none;\">\n",
              "        \n",
              "  <svg xmlns=\"http://www.w3.org/2000/svg\" height=\"24px\"viewBox=\"0 0 24 24\"\n",
              "       width=\"24px\">\n",
              "    <path d=\"M0 0h24v24H0V0z\" fill=\"none\"/>\n",
              "    <path d=\"M18.56 5.44l.94 2.06.94-2.06 2.06-.94-2.06-.94-.94-2.06-.94 2.06-2.06.94zm-11 1L8.5 8.5l.94-2.06 2.06-.94-2.06-.94L8.5 2.5l-.94 2.06-2.06.94zm10 10l.94 2.06.94-2.06 2.06-.94-2.06-.94-.94-2.06-.94 2.06-2.06.94z\"/><path d=\"M17.41 7.96l-1.37-1.37c-.4-.4-.92-.59-1.43-.59-.52 0-1.04.2-1.43.59L10.3 9.45l-7.72 7.72c-.78.78-.78 2.05 0 2.83L4 21.41c.39.39.9.59 1.41.59.51 0 1.02-.2 1.41-.59l7.78-7.78 2.81-2.81c.8-.78.8-2.07 0-2.86zM5.41 20L4 18.59l7.72-7.72 1.47 1.35L5.41 20z\"/>\n",
              "  </svg>\n",
              "      </button>\n",
              "      \n",
              "  <style>\n",
              "    .colab-df-container {\n",
              "      display:flex;\n",
              "      flex-wrap:wrap;\n",
              "      gap: 12px;\n",
              "    }\n",
              "\n",
              "    .colab-df-convert {\n",
              "      background-color: #E8F0FE;\n",
              "      border: none;\n",
              "      border-radius: 50%;\n",
              "      cursor: pointer;\n",
              "      display: none;\n",
              "      fill: #1967D2;\n",
              "      height: 32px;\n",
              "      padding: 0 0 0 0;\n",
              "      width: 32px;\n",
              "    }\n",
              "\n",
              "    .colab-df-convert:hover {\n",
              "      background-color: #E2EBFA;\n",
              "      box-shadow: 0px 1px 2px rgba(60, 64, 67, 0.3), 0px 1px 3px 1px rgba(60, 64, 67, 0.15);\n",
              "      fill: #174EA6;\n",
              "    }\n",
              "\n",
              "    [theme=dark] .colab-df-convert {\n",
              "      background-color: #3B4455;\n",
              "      fill: #D2E3FC;\n",
              "    }\n",
              "\n",
              "    [theme=dark] .colab-df-convert:hover {\n",
              "      background-color: #434B5C;\n",
              "      box-shadow: 0px 1px 3px 1px rgba(0, 0, 0, 0.15);\n",
              "      filter: drop-shadow(0px 1px 2px rgba(0, 0, 0, 0.3));\n",
              "      fill: #FFFFFF;\n",
              "    }\n",
              "  </style>\n",
              "\n",
              "      <script>\n",
              "        const buttonEl =\n",
              "          document.querySelector('#df-198ef587-7bf7-4bce-b996-71e11bff8181 button.colab-df-convert');\n",
              "        buttonEl.style.display =\n",
              "          google.colab.kernel.accessAllowed ? 'block' : 'none';\n",
              "\n",
              "        async function convertToInteractive(key) {\n",
              "          const element = document.querySelector('#df-198ef587-7bf7-4bce-b996-71e11bff8181');\n",
              "          const dataTable =\n",
              "            await google.colab.kernel.invokeFunction('convertToInteractive',\n",
              "                                                     [key], {});\n",
              "          if (!dataTable) return;\n",
              "\n",
              "          const docLinkHtml = 'Like what you see? Visit the ' +\n",
              "            '<a target=\"_blank\" href=https://colab.research.google.com/notebooks/data_table.ipynb>data table notebook</a>'\n",
              "            + ' to learn more about interactive tables.';\n",
              "          element.innerHTML = '';\n",
              "          dataTable['output_type'] = 'display_data';\n",
              "          await google.colab.output.renderOutput(dataTable, element);\n",
              "          const docLink = document.createElement('div');\n",
              "          docLink.innerHTML = docLinkHtml;\n",
              "          element.appendChild(docLink);\n",
              "        }\n",
              "      </script>\n",
              "    </div>\n",
              "  </div>\n",
              "  "
            ]
          },
          "metadata": {},
          "execution_count": 100
        }
      ]
    },
    {
      "cell_type": "code",
      "source": [
        "data.head()"
      ],
      "metadata": {
        "colab": {
          "base_uri": "https://localhost:8080/",
          "height": 206
        },
        "id": "ogqQbEyNz4S1",
        "outputId": "6469d153-4742-4ae1-8567-e75fabca5233"
      },
      "execution_count": 101,
      "outputs": [
        {
          "output_type": "execute_result",
          "data": {
            "text/plain": [
              "   precipitation  temp_max  temp_min  wind  weather\n",
              "0            0.0      12.8       5.0   4.7  drizzle\n",
              "1           10.9      10.6       2.8   4.5     rain\n",
              "2            0.8      11.7       7.2   2.3     rain\n",
              "3           20.3      12.2       5.6   4.7     rain\n",
              "4            1.3       8.9       2.8   6.1     rain"
            ],
            "text/html": [
              "\n",
              "  <div id=\"df-ffb29dbd-847b-429c-8bc3-f6c3243bb8e2\">\n",
              "    <div class=\"colab-df-container\">\n",
              "      <div>\n",
              "<style scoped>\n",
              "    .dataframe tbody tr th:only-of-type {\n",
              "        vertical-align: middle;\n",
              "    }\n",
              "\n",
              "    .dataframe tbody tr th {\n",
              "        vertical-align: top;\n",
              "    }\n",
              "\n",
              "    .dataframe thead th {\n",
              "        text-align: right;\n",
              "    }\n",
              "</style>\n",
              "<table border=\"1\" class=\"dataframe\">\n",
              "  <thead>\n",
              "    <tr style=\"text-align: right;\">\n",
              "      <th></th>\n",
              "      <th>precipitation</th>\n",
              "      <th>temp_max</th>\n",
              "      <th>temp_min</th>\n",
              "      <th>wind</th>\n",
              "      <th>weather</th>\n",
              "    </tr>\n",
              "  </thead>\n",
              "  <tbody>\n",
              "    <tr>\n",
              "      <th>0</th>\n",
              "      <td>0.0</td>\n",
              "      <td>12.8</td>\n",
              "      <td>5.0</td>\n",
              "      <td>4.7</td>\n",
              "      <td>drizzle</td>\n",
              "    </tr>\n",
              "    <tr>\n",
              "      <th>1</th>\n",
              "      <td>10.9</td>\n",
              "      <td>10.6</td>\n",
              "      <td>2.8</td>\n",
              "      <td>4.5</td>\n",
              "      <td>rain</td>\n",
              "    </tr>\n",
              "    <tr>\n",
              "      <th>2</th>\n",
              "      <td>0.8</td>\n",
              "      <td>11.7</td>\n",
              "      <td>7.2</td>\n",
              "      <td>2.3</td>\n",
              "      <td>rain</td>\n",
              "    </tr>\n",
              "    <tr>\n",
              "      <th>3</th>\n",
              "      <td>20.3</td>\n",
              "      <td>12.2</td>\n",
              "      <td>5.6</td>\n",
              "      <td>4.7</td>\n",
              "      <td>rain</td>\n",
              "    </tr>\n",
              "    <tr>\n",
              "      <th>4</th>\n",
              "      <td>1.3</td>\n",
              "      <td>8.9</td>\n",
              "      <td>2.8</td>\n",
              "      <td>6.1</td>\n",
              "      <td>rain</td>\n",
              "    </tr>\n",
              "  </tbody>\n",
              "</table>\n",
              "</div>\n",
              "      <button class=\"colab-df-convert\" onclick=\"convertToInteractive('df-ffb29dbd-847b-429c-8bc3-f6c3243bb8e2')\"\n",
              "              title=\"Convert this dataframe to an interactive table.\"\n",
              "              style=\"display:none;\">\n",
              "        \n",
              "  <svg xmlns=\"http://www.w3.org/2000/svg\" height=\"24px\"viewBox=\"0 0 24 24\"\n",
              "       width=\"24px\">\n",
              "    <path d=\"M0 0h24v24H0V0z\" fill=\"none\"/>\n",
              "    <path d=\"M18.56 5.44l.94 2.06.94-2.06 2.06-.94-2.06-.94-.94-2.06-.94 2.06-2.06.94zm-11 1L8.5 8.5l.94-2.06 2.06-.94-2.06-.94L8.5 2.5l-.94 2.06-2.06.94zm10 10l.94 2.06.94-2.06 2.06-.94-2.06-.94-.94-2.06-.94 2.06-2.06.94z\"/><path d=\"M17.41 7.96l-1.37-1.37c-.4-.4-.92-.59-1.43-.59-.52 0-1.04.2-1.43.59L10.3 9.45l-7.72 7.72c-.78.78-.78 2.05 0 2.83L4 21.41c.39.39.9.59 1.41.59.51 0 1.02-.2 1.41-.59l7.78-7.78 2.81-2.81c.8-.78.8-2.07 0-2.86zM5.41 20L4 18.59l7.72-7.72 1.47 1.35L5.41 20z\"/>\n",
              "  </svg>\n",
              "      </button>\n",
              "      \n",
              "  <style>\n",
              "    .colab-df-container {\n",
              "      display:flex;\n",
              "      flex-wrap:wrap;\n",
              "      gap: 12px;\n",
              "    }\n",
              "\n",
              "    .colab-df-convert {\n",
              "      background-color: #E8F0FE;\n",
              "      border: none;\n",
              "      border-radius: 50%;\n",
              "      cursor: pointer;\n",
              "      display: none;\n",
              "      fill: #1967D2;\n",
              "      height: 32px;\n",
              "      padding: 0 0 0 0;\n",
              "      width: 32px;\n",
              "    }\n",
              "\n",
              "    .colab-df-convert:hover {\n",
              "      background-color: #E2EBFA;\n",
              "      box-shadow: 0px 1px 2px rgba(60, 64, 67, 0.3), 0px 1px 3px 1px rgba(60, 64, 67, 0.15);\n",
              "      fill: #174EA6;\n",
              "    }\n",
              "\n",
              "    [theme=dark] .colab-df-convert {\n",
              "      background-color: #3B4455;\n",
              "      fill: #D2E3FC;\n",
              "    }\n",
              "\n",
              "    [theme=dark] .colab-df-convert:hover {\n",
              "      background-color: #434B5C;\n",
              "      box-shadow: 0px 1px 3px 1px rgba(0, 0, 0, 0.15);\n",
              "      filter: drop-shadow(0px 1px 2px rgba(0, 0, 0, 0.3));\n",
              "      fill: #FFFFFF;\n",
              "    }\n",
              "  </style>\n",
              "\n",
              "      <script>\n",
              "        const buttonEl =\n",
              "          document.querySelector('#df-ffb29dbd-847b-429c-8bc3-f6c3243bb8e2 button.colab-df-convert');\n",
              "        buttonEl.style.display =\n",
              "          google.colab.kernel.accessAllowed ? 'block' : 'none';\n",
              "\n",
              "        async function convertToInteractive(key) {\n",
              "          const element = document.querySelector('#df-ffb29dbd-847b-429c-8bc3-f6c3243bb8e2');\n",
              "          const dataTable =\n",
              "            await google.colab.kernel.invokeFunction('convertToInteractive',\n",
              "                                                     [key], {});\n",
              "          if (!dataTable) return;\n",
              "\n",
              "          const docLinkHtml = 'Like what you see? Visit the ' +\n",
              "            '<a target=\"_blank\" href=https://colab.research.google.com/notebooks/data_table.ipynb>data table notebook</a>'\n",
              "            + ' to learn more about interactive tables.';\n",
              "          element.innerHTML = '';\n",
              "          dataTable['output_type'] = 'display_data';\n",
              "          await google.colab.output.renderOutput(dataTable, element);\n",
              "          const docLink = document.createElement('div');\n",
              "          docLink.innerHTML = docLinkHtml;\n",
              "          element.appendChild(docLink);\n",
              "        }\n",
              "      </script>\n",
              "    </div>\n",
              "  </div>\n",
              "  "
            ]
          },
          "metadata": {},
          "execution_count": 101
        }
      ]
    },
    {
      "cell_type": "markdown",
      "source": [
        "##Preprocessing"
      ],
      "metadata": {
        "id": "pUyL-ZS-0xV_"
      }
    },
    {
      "cell_type": "code",
      "source": [
        "data.isnull().sum()"
      ],
      "metadata": {
        "colab": {
          "base_uri": "https://localhost:8080/"
        },
        "id": "haKlI4lbz50M",
        "outputId": "05a8649b-6a6c-41f0-e627-64e812c1004f"
      },
      "execution_count": 102,
      "outputs": [
        {
          "output_type": "execute_result",
          "data": {
            "text/plain": [
              "precipitation    0\n",
              "temp_max         0\n",
              "temp_min         0\n",
              "wind             0\n",
              "weather          0\n",
              "dtype: int64"
            ]
          },
          "metadata": {},
          "execution_count": 102
        }
      ]
    },
    {
      "cell_type": "code",
      "source": [
        "for i in data.columns:\n",
        "  print(data[i].value_counts())\n",
        "  print()"
      ],
      "metadata": {
        "colab": {
          "base_uri": "https://localhost:8080/"
        },
        "id": "65jeLtLw0LHE",
        "outputId": "422e4ceb-d3a5-468b-b939-2e5e2a80647d"
      },
      "execution_count": 103,
      "outputs": [
        {
          "output_type": "stream",
          "name": "stdout",
          "text": [
            "0.0     838\n",
            "0.3      54\n",
            "0.5      40\n",
            "1.0      26\n",
            "1.5      25\n",
            "       ... \n",
            "30.0      1\n",
            "26.4      1\n",
            "19.1      1\n",
            "46.7      1\n",
            "21.8      1\n",
            "Name: precipitation, Length: 111, dtype: int64\n",
            "\n",
            " 11.1    58\n",
            " 14.4    49\n",
            " 10.0    47\n",
            " 12.8    46\n",
            " 12.2    44\n",
            "         ..\n",
            "-0.5      1\n",
            "-1.6      1\n",
            " 35.6     1\n",
            "-1.1      1\n",
            " 35.0     1\n",
            "Name: temp_max, Length: 67, dtype: int64\n",
            "\n",
            " 6.1     66\n",
            " 10.0    64\n",
            " 11.7    60\n",
            " 7.2     60\n",
            " 13.3    58\n",
            " 11.1    56\n",
            " 4.4     55\n",
            " 13.9    54\n",
            " 9.4     53\n",
            " 8.3     52\n",
            " 15.0    51\n",
            " 8.9     51\n",
            " 5.6     50\n",
            " 6.7     47\n",
            " 14.4    46\n",
            " 7.8     46\n",
            " 12.2    45\n",
            " 2.8     45\n",
            " 12.8    45\n",
            " 3.3     44\n",
            " 3.9     44\n",
            " 5.0     41\n",
            " 10.6    37\n",
            " 1.7     30\n",
            " 0.6     28\n",
            " 1.1     27\n",
            " 15.6    27\n",
            " 2.2     24\n",
            " 16.1    23\n",
            " 0.0     16\n",
            " 16.7    15\n",
            " 17.2    14\n",
            " 17.8     9\n",
            "-0.5      9\n",
            "-2.1      8\n",
            "-0.6      7\n",
            "-1.1      7\n",
            "-2.8      7\n",
            "-1.7      6\n",
            " 18.3     6\n",
            "-4.9      4\n",
            "-1.6      3\n",
            "-3.2      3\n",
            "-2.2      3\n",
            "-1.0      2\n",
            "-2.7      2\n",
            "-4.3      2\n",
            "-3.9      2\n",
            "-6.6      1\n",
            "-7.1      1\n",
            "-5.5      1\n",
            "-6.0      1\n",
            "-3.3      1\n",
            "-4.4      1\n",
            "-3.8      1\n",
            "Name: temp_min, dtype: int64\n",
            "\n",
            "2.6    76\n",
            "3.0    65\n",
            "2.2    55\n",
            "2.5    51\n",
            "2.8    47\n",
            "       ..\n",
            "8.2     1\n",
            "0.4     1\n",
            "0.7     1\n",
            "6.9     1\n",
            "7.7     1\n",
            "Name: wind, Length: 79, dtype: int64\n",
            "\n",
            "rain       641\n",
            "sun        640\n",
            "fog        101\n",
            "drizzle     53\n",
            "snow        26\n",
            "Name: weather, dtype: int64\n",
            "\n"
          ]
        }
      ]
    },
    {
      "cell_type": "markdown",
      "source": [
        "The data is completely cleaned."
      ],
      "metadata": {
        "id": "woKmbI0m0rjk"
      }
    },
    {
      "cell_type": "markdown",
      "source": [
        "##Data Visualization"
      ],
      "metadata": {
        "id": "fnozESO731uJ"
      }
    },
    {
      "cell_type": "code",
      "source": [
        "sns.countplot(x='weather',data=data)"
      ],
      "metadata": {
        "colab": {
          "base_uri": "https://localhost:8080/",
          "height": 0
        },
        "id": "anUXeakJovXf",
        "outputId": "a54ae3f2-7882-47c8-e58f-3c8123e4525c"
      },
      "execution_count": 104,
      "outputs": [
        {
          "output_type": "execute_result",
          "data": {
            "text/plain": [
              "<matplotlib.axes._subplots.AxesSubplot at 0x7fb3e5c5a7c0>"
            ]
          },
          "metadata": {},
          "execution_count": 104
        },
        {
          "output_type": "display_data",
          "data": {
            "text/plain": [
              "<Figure size 432x288 with 1 Axes>"
            ],
            "image/png": "[encoded data removed]"
          },
          "metadata": {
            "needs_background": "light"
          }
        }
      ]
    },
    {
      "cell_type": "markdown",
      "source": [
        "We can see the countplot for weather. Mostly, it was rainy and sunny."
      ],
      "metadata": {
        "id": "EM7K14icphkS"
      }
    },
    {
      "cell_type": "code",
      "source": [
        "plt.title('Precipitation')\n",
        "data['precipitation'].plot.hist(bins = 20)"
      ],
      "metadata": {
        "colab": {
          "base_uri": "https://localhost:8080/",
          "height": 0
        },
        "id": "VhdtRCCKqAKO",
        "outputId": "6e6ca480-0873-44e2-f59b-bc37de2ba2f3"
      },
      "execution_count": 105,
      "outputs": [
        {
          "output_type": "execute_result",
          "data": {
            "text/plain": [
              "<matplotlib.axes._subplots.AxesSubplot at 0x7fb3e5a13340>"
            ]
          },
          "metadata": {},
          "execution_count": 105
        },
        {
          "output_type": "display_data",
          "data": {
            "text/plain": [
              "<Figure size 432x288 with 1 Axes>"
            ],
            "image/png": "[encoded data removed]"
          },
          "metadata": {
            "needs_background": "light"
          }
        }
      ]
    },
    {
      "cell_type": "markdown",
      "source": [
        "Precipitation is right skewed.\n",
        "Mostly on all the days precipitation is between 0 to 10"
      ],
      "metadata": {
        "id": "MLrj2_gHrm16"
      }
    },
    {
      "cell_type": "code",
      "source": [
        "plt.title('wind')\n",
        "data['wind'].plot.hist()"
      ],
      "metadata": {
        "colab": {
          "base_uri": "https://localhost:8080/",
          "height": 0
        },
        "id": "s5Cd02UwqyZ5",
        "outputId": "0b6622a4-32e6-431f-8760-c5223bdb6986"
      },
      "execution_count": 106,
      "outputs": [
        {
          "output_type": "execute_result",
          "data": {
            "text/plain": [
              "<matplotlib.axes._subplots.AxesSubplot at 0x7fb3e7d5ce50>"
            ]
          },
          "metadata": {},
          "execution_count": 106
        },
        {
          "output_type": "display_data",
          "data": {
            "text/plain": [
              "<Figure size 432x288 with 1 Axes>"
            ],
            "image/png": "[encoded data removed]"
          },
          "metadata": {
            "needs_background": "light"
          }
        }
      ]
    },
    {
      "cell_type": "markdown",
      "source": [
        "Wind is following normal distribution and a bit right skewed."
      ],
      "metadata": {
        "id": "ueV1hUZhq7W4"
      }
    },
    {
      "cell_type": "code",
      "source": [
        "sns.lmplot( x=\"temp_min\", y=\"temp_max\", data=data, fit_reg=False, legend=True,hue='weather')"
      ],
      "metadata": {
        "colab": {
          "base_uri": "https://localhost:8080/",
          "height": 0
        },
        "id": "LXvLtPU1t4wL",
        "outputId": "495ed408-a151-4877-ae30-96e043102998"
      },
      "execution_count": 107,
      "outputs": [
        {
          "output_type": "execute_result",
          "data": {
            "text/plain": [
              "<seaborn.axisgrid.FacetGrid at 0x7fb3e7e127f0>"
            ]
          },
          "metadata": {},
          "execution_count": 107
        },
        {
          "output_type": "display_data",
          "data": {
            "text/plain": [
              "<Figure size 428.625x360 with 1 Axes>"
            ],
            "image/png": "[encoded data removed]"
          },
          "metadata": {
            "needs_background": "light"
          }
        }
      ]
    },
    {
      "cell_type": "markdown",
      "source": [
        "A perfect positive relationship is forming between minimum temperature and maximum temperature. \n",
        "\n",
        "It is showing that on a particular day, if minimum temperature is less, then maximum temperature will be less too.\n"
      ],
      "metadata": {
        "id": "m9fVjfHlt6pu"
      }
    },
    {
      "cell_type": "code",
      "source": [
        "sns.lmplot( x=\"temp_max\", y=\"wind\", data=data, fit_reg=False, legend=True,hue='weather')"
      ],
      "metadata": {
        "colab": {
          "base_uri": "https://localhost:8080/",
          "height": 0
        },
        "id": "EDVOpLph7Ykv",
        "outputId": "b3b310bd-b656-4d7e-9c1d-027275c44ad6"
      },
      "execution_count": 108,
      "outputs": [
        {
          "output_type": "execute_result",
          "data": {
            "text/plain": [
              "<seaborn.axisgrid.FacetGrid at 0x7fb3e595a190>"
            ]
          },
          "metadata": {},
          "execution_count": 108
        },
        {
          "output_type": "display_data",
          "data": {
            "text/plain": [
              "<Figure size 428.625x360 with 1 Axes>"
            ],
            "image/png": "[encoded data removed]"
          },
          "metadata": {
            "needs_background": "light"
          }
        }
      ]
    },
    {
      "cell_type": "markdown",
      "source": [
        "We can see that no such relation is there between maximum temperature and wind."
      ],
      "metadata": {
        "id": "DmcE2uoatsFO"
      }
    },
    {
      "cell_type": "code",
      "source": [
        "plt.figure(figsize=(5,5))\n",
        "corr = data.corr()\n",
        "sns.heatmap(corr,annot=True)"
      ],
      "metadata": {
        "colab": {
          "base_uri": "https://localhost:8080/",
          "height": 0
        },
        "id": "B4UECXzKu2RR",
        "outputId": "3c23030c-1ff3-45f7-84bf-b64bd7c88b74"
      },
      "execution_count": 109,
      "outputs": [
        {
          "output_type": "execute_result",
          "data": {
            "text/plain": [
              "<matplotlib.axes._subplots.AxesSubplot at 0x7fb3e594aa60>"
            ]
          },
          "metadata": {},
          "execution_count": 109
        },
        {
          "output_type": "display_data",
          "data": {
            "text/plain": [
              "<Figure size 360x360 with 2 Axes>"
            ],
            "image/png": "[encoded data removed]"
          },
          "metadata": {
            "needs_background": "light"
          }
        }
      ]
    },
    {
      "cell_type": "markdown",
      "source": [
        "Heatmap is showing the degree of relationship between all the numerical variables.\n",
        "\n",
        "Negative sign is representing negative relationship and positive is showing positive.\n",
        "\n",
        "Negative means if one variable increases other tend to decreases."
      ],
      "metadata": {
        "id": "8tamI5qpvChA"
      }
    },
    {
      "cell_type": "code",
      "source": [
        "fig = plt.figure(figsize =(5,5))\n",
        "plt.title('Boxplot of maximum temperature')\n",
        "plt.boxplot(data['temp_max'])\n",
        "plt.show()"
      ],
      "metadata": {
        "colab": {
          "base_uri": "https://localhost:8080/",
          "height": 0
        },
        "id": "UOH2DDWcvmQB",
        "outputId": "fc76e368-ee01-4a9d-a62f-421b5d3dcb65"
      },
      "execution_count": 110,
      "outputs": [
        {
          "output_type": "display_data",
          "data": {
            "text/plain": [
              "<Figure size 360x360 with 1 Axes>"
            ],
            "image/png": "[encoded data removed]"
          },
          "metadata": {
            "needs_background": "light"
          }
        }
      ]
    },
    {
      "cell_type": "markdown",
      "source": [
        "No outlier in 'temp_max'. Median temperature is around 15 showing that the data is of a cooler place or in starting of winter season."
      ],
      "metadata": {
        "id": "4ZXF-Vc_5Jid"
      }
    },
    {
      "cell_type": "code",
      "source": [
        "fig = plt.figure(figsize =(5,5))\n",
        "plt.title('Boxplot of Wind')\n",
        "plt.boxplot(data['wind'])\n",
        "plt.show()"
      ],
      "metadata": {
        "colab": {
          "base_uri": "https://localhost:8080/",
          "height": 0
        },
        "id": "2_hAqsY349Uj",
        "outputId": "da3844d9-8655-40d4-9737-ad1c246c2a08"
      },
      "execution_count": 111,
      "outputs": [
        {
          "output_type": "display_data",
          "data": {
            "text/plain": [
              "<Figure size 360x360 with 1 Axes>"
            ],
            "image/png": "[encoded data removed]"
          },
          "metadata": {
            "needs_background": "light"
          }
        }
      ]
    },
    {
      "cell_type": "code",
      "source": [
        "fig = plt.figure(figsize =(5,5))\n",
        "plt.title('Boxplot of Precipitation')\n",
        "plt.boxplot(data['precipitation'])\n",
        "plt.show()"
      ],
      "metadata": {
        "colab": {
          "base_uri": "https://localhost:8080/",
          "height": 0
        },
        "id": "SYmV6Miz5A9-",
        "outputId": "de7a61d3-261c-4c58-f911-5f51a1ff986e"
      },
      "execution_count": 112,
      "outputs": [
        {
          "output_type": "display_data",
          "data": {
            "text/plain": [
              "<Figure size 360x360 with 1 Axes>"
            ],
            "image/png": "[encoded data removed]"
          },
          "metadata": {
            "needs_background": "light"
          }
        }
      ]
    },
    {
      "cell_type": "markdown",
      "source": [
        "Precipitation and wind are having outliers."
      ],
      "metadata": {
        "id": "Uf6TPsQ25Ldm"
      }
    },
    {
      "cell_type": "markdown",
      "source": [
        "##Modelling"
      ],
      "metadata": {
        "id": "q56lGCNs-QeO"
      }
    },
    {
      "cell_type": "code",
      "source": [
        "'''label imbalance - An imbalanced classification problem is an example of a classification \n",
        "problem where the distribution of examples across the known classes is biased or skewed.\n",
        "\n",
        "Whenever the output is checked - it will be giving data accuracy, from the Training data\n",
        "and that they will learn and at the later stage in test data, the output would be given as\n",
        "the attribute which is present in majority irrespective of the attributes/features and hence\n",
        "we need to check for Label Imbalance'''\n",
        "\n",
        "import matplotlib.pyplot as plt\n",
        "import seaborn as sns\n",
        "t = data[\"weather\"].value_counts()\n",
        "t_data = pd.DataFrame({'weather':t.index,'values':t.values})\n",
        "print(sns.barplot(x='weather',y=\"values\",data=t_data))"
      ],
      "metadata": {
        "colab": {
          "base_uri": "https://localhost:8080/",
          "height": 297
        },
        "id": "pX4B6HSH_ZBp",
        "outputId": "fc3852c0-c10e-4481-dd1e-cf53eee5787e"
      },
      "execution_count": 113,
      "outputs": [
        {
          "output_type": "stream",
          "name": "stdout",
          "text": [
            "AxesSubplot(0.125,0.125;0.775x0.755)\n"
          ]
        },
        {
          "output_type": "display_data",
          "data": {
            "text/plain": [
              "<Figure size 432x288 with 1 Axes>"
            ],
            "image/png": "[encoded data removed]"
          },
          "metadata": {
            "needs_background": "light"
          }
        }
      ]
    },
    {
      "cell_type": "code",
      "source": [
        "#Step1 = Separating features and labels\n",
        "X = data.drop(\"weather\",axis=1)\n",
        "y = data[\"weather\"]"
      ],
      "metadata": {
        "id": "R0zmsO5A_2tw"
      },
      "execution_count": 114,
      "outputs": []
    },
    {
      "cell_type": "code",
      "source": [
        "'''Step 2 = Fixing the Label Imbalance\n",
        "we are using random oversampling technique \n",
        "In this, it will increase the data for less labels\n",
        "In undersampling technique, data is reduced, hence we are not using the under sampler'''\n",
        "from imblearn.over_sampling import RandomOverSampler\n",
        "from collections import Counter\n",
        "r = RandomOverSampler()\n",
        "Xs, ys = r.fit_resample(X, y)\n",
        "print(Counter(ys))\n",
        "Xs.shape"
      ],
      "metadata": {
        "colab": {
          "base_uri": "https://localhost:8080/"
        },
        "id": "nCFhSEKq_8wO",
        "outputId": "a80af9ea-dd5c-499a-88e5-c744cd09770e"
      },
      "execution_count": 115,
      "outputs": [
        {
          "output_type": "stream",
          "name": "stdout",
          "text": [
            "Counter({'drizzle': 641, 'rain': 641, 'sun': 641, 'snow': 641, 'fog': 641})\n"
          ]
        },
        {
          "output_type": "execute_result",
          "data": {
            "text/plain": [
              "(3205, 4)"
            ]
          },
          "metadata": {},
          "execution_count": 115
        }
      ]
    },
    {
      "cell_type": "code",
      "source": [
        "'''Step 3 = Feature Scaling: to normalize data\n",
        "X_r = feature dataset\n",
        "MinMax scaler scales the dataset so that all the features lie between 0 and 1\n",
        "'''\n",
        "from sklearn.preprocessing import MinMaxScaler \n",
        "x_scaler = MinMaxScaler()\n",
        "x_scaler.fit(Xs)\n",
        "cols = Xs.columns\n",
        "Xs[cols] = x_scaler.transform(Xs)"
      ],
      "metadata": {
        "id": "UQUHsewEADWu"
      },
      "execution_count": 116,
      "outputs": []
    },
    {
      "cell_type": "code",
      "source": [
        "from sklearn import model_selection\n",
        "X_train, X_test, y_train, y_test = model_selection.train_test_split(Xs, ys, test_size= 0.30,shuffle = True,random_state=42)\n",
        "# 30% data for testing and 70% for training\n",
        "print('X_train dimension= ', X_train.shape)\n",
        "print('X_test dimension= ', X_test.shape)\n",
        "print('y_train dimension= ', y_train.shape)\n",
        "print('y_train dimension= ', y_test.shape)"
      ],
      "metadata": {
        "colab": {
          "base_uri": "https://localhost:8080/"
        },
        "id": "Qw-tHK5HAO6n",
        "outputId": "70cc390a-2062-42e1-b6aa-c9ca17ed0b5a"
      },
      "execution_count": 117,
      "outputs": [
        {
          "output_type": "stream",
          "name": "stdout",
          "text": [
            "X_train dimension=  (2243, 4)\n",
            "X_test dimension=  (962, 4)\n",
            "y_train dimension=  (2243,)\n",
            "y_train dimension=  (962,)\n"
          ]
        }
      ]
    },
    {
      "cell_type": "code",
      "source": [
        "from sklearn import model_selection\n",
        "from sklearn import linear_model\n",
        "from sklearn import metrics\n",
        "from sklearn.metrics import accuracy_score\n",
        "from sklearn import model_selection"
      ],
      "metadata": {
        "id": "_ZiXFHAn0dZ7"
      },
      "execution_count": 118,
      "outputs": []
    },
    {
      "cell_type": "markdown",
      "source": [
        "##Decision Trees"
      ],
      "metadata": {
        "id": "8ACrnSwJ2FqF"
      }
    },
    {
      "cell_type": "code",
      "source": [
        "from sklearn import tree"
      ],
      "metadata": {
        "id": "uzPmvPVB95ih"
      },
      "execution_count": 119,
      "outputs": []
    },
    {
      "cell_type": "code",
      "source": [
        "model = tree.DecisionTreeClassifier(criterion='entropy',max_depth=25)\n",
        "model.fit(X_train, y_train) #training the model\n",
        "y_pred = model.predict(X_test) #predicting the labels of test set\n",
        "count_misclassified = (y_test != y_pred).sum() #counting how many predictions made by the model were incorrect\n",
        "print('Misclassified samples: ', count_misclassified)\n",
        "accuracy = metrics.accuracy_score(y_test, y_pred) #finding the accuracy of the model \n",
        "print('Accuracy: {:.2f}'.format(accuracy))"
      ],
      "metadata": {
        "colab": {
          "base_uri": "https://localhost:8080/"
        },
        "id": "iTPxC7YP_WOX",
        "outputId": "de7eb4d1-e74d-46da-cf22-4f8e5afda54a"
      },
      "execution_count": 126,
      "outputs": [
        {
          "output_type": "stream",
          "name": "stdout",
          "text": [
            "Misclassified samples:  78\n",
            "Accuracy: 0.92\n"
          ]
        }
      ]
    },
    {
      "cell_type": "markdown",
      "source": [
        "Accuracy of Decision trees is 92% at maximum depth = 25\n",
        "\n",
        "Before and after this, accuracy is reducing."
      ],
      "metadata": {
        "id": "0Ndesmf4dK7B"
      }
    },
    {
      "cell_type": "markdown",
      "source": [
        "CONFUSION MATRIX =  The diagonal elements represent the number of points for which the predicted label is equal to the true label, while off-diagonal elements are those that are mislabeled by the classifier. The higher the diagonal values of the confusion matrix the better, indicating many correct predictions."
      ],
      "metadata": {
        "id": "Q-qENzuha7pY"
      }
    },
    {
      "cell_type": "code",
      "source": [
        "def conf_mat(y_test,y_pred): #function for printing confusion matrix\n",
        "  confusion_matrix = metrics.confusion_matrix(y_test, y_pred)\n",
        "  print(pd.crosstab(y_test,y_pred))\n",
        "  #print accuracy of model\n",
        "  print(metrics.accuracy_score(y_test,y_pred))"
      ],
      "metadata": {
        "id": "OX1SzPHMYrHl"
      },
      "execution_count": 121,
      "outputs": []
    },
    {
      "cell_type": "code",
      "source": [
        "conf_mat(y_test,y_pred) #on yaxis = True label, xaxis = predicted label"
      ],
      "metadata": {
        "colab": {
          "base_uri": "https://localhost:8080/"
        },
        "id": "4GsFLUO7ZPkB",
        "outputId": "a5832398-f404-4c05-ce4d-fe14f3aea459"
      },
      "execution_count": 122,
      "outputs": [
        {
          "output_type": "stream",
          "name": "stdout",
          "text": [
            "col_0    drizzle  fog  rain  snow  sun\n",
            "weather                               \n",
            "drizzle      187    0     0     0    0\n",
            "fog            0  192     0     0    0\n",
            "rain           1    3   172     6    6\n",
            "snow           0    0     0   193    0\n",
            "sun           21   28    12     0  141\n",
            "0.91995841995842\n"
          ]
        }
      ]
    },
    {
      "cell_type": "markdown",
      "source": [
        "##KNN"
      ],
      "metadata": {
        "id": "b9vhDMNLYxOj"
      }
    },
    {
      "cell_type": "code",
      "source": [
        "from sklearn.neighbors import KNeighborsClassifier\n",
        "knn = KNeighborsClassifier\n",
        "model2 = knn(n_neighbors=3)\n",
        "model2.fit(X_train, y_train) #training the model\n",
        "y_pred = model2.predict(X_test) #predicting the labels of test set\n",
        "count_misclassified = (y_test != y_pred).sum() #counting how many predictions made by the model were incorrect\n",
        "print('Misclassified samples: ', count_misclassified)\n",
        "accuracy = metrics.accuracy_score(y_test, y_pred) #finding the accuracy of the model \n",
        "print('Accuracy: {:.2f}'.format(accuracy))"
      ],
      "metadata": {
        "colab": {
          "base_uri": "https://localhost:8080/"
        },
        "id": "FRVyBnTtA5N2",
        "outputId": "1caa66dc-1d89-4148-a87f-c97716d0f729"
      },
      "execution_count": 123,
      "outputs": [
        {
          "output_type": "stream",
          "name": "stdout",
          "text": [
            "Misclassified samples:  143\n",
            "Accuracy: 0.85\n"
          ]
        }
      ]
    },
    {
      "cell_type": "code",
      "source": [
        "conf_mat(y_test,y_pred)"
      ],
      "metadata": {
        "colab": {
          "base_uri": "https://localhost:8080/"
        },
        "id": "NAdQNii9Xuv_",
        "outputId": "537e4d45-f605-4ee5-8d94-8d5c7fa24748"
      },
      "execution_count": 124,
      "outputs": [
        {
          "output_type": "stream",
          "name": "stdout",
          "text": [
            "col_0    drizzle  fog  rain  snow  sun\n",
            "weather                               \n",
            "drizzle      187    0     0     0    0\n",
            "fog            0  190     2     0    0\n",
            "rain           7   12   135     5   29\n",
            "snow           0    0     0   193    0\n",
            "sun           24   33    25     6  114\n",
            "0.8513513513513513\n"
          ]
        }
      ]
    },
    {
      "cell_type": "markdown",
      "source": [
        "We can see that both KNN and Decision trees predicted wrong mostly for sun."
      ],
      "metadata": {
        "id": "x74NWNJFby-C"
      }
    }
  ]
}